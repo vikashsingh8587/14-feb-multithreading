{
 "cells": [
  {
   "cell_type": "code",
   "execution_count": 2,
   "id": "ce5788a4-49e4-4def-995d-7855a10a316e",
   "metadata": {},
   "outputs": [],
   "source": [
    "# 1.  what is multithreading in python? why is it used? Name the module used to \n",
    "#handle threads in python"
   ]
  },
  {
   "cell_type": "code",
   "execution_count": 3,
   "id": "dfcb9c81-7d80-493b-9a12-bbb3e450bceb",
   "metadata": {},
   "outputs": [],
   "source": [
    "# multithreading is the way of achieve multitasking ,multithreading is the concept of thread used.\n",
    "# by the help ability of processor to excecute multiple threads concurrently\n",
    "# it is  used for better performance ,and cpu utilization\n",
    "# import threading is the module used to handle thread \n",
    "import threading"
   ]
  },
  {
   "cell_type": "code",
   "execution_count": 4,
   "id": "2969661a-6b42-47d2-bbac-58cc2469c998",
   "metadata": {},
   "outputs": [],
   "source": [
    "#2. why threading module used? rite the use of the following functions\n",
    " #activeCount\n",
    " # currentThread\n",
    " # enumerate"
   ]
  },
  {
   "cell_type": "code",
   "execution_count": 6,
   "id": "59e37ed4-7236-488e-91c6-4ef07b8248d3",
   "metadata": {},
   "outputs": [],
   "source": [
    "#  threading module provide a very simple and intuitive API\n",
    "#  for swapping multiple threads in a program\n",
    " # activecount\n",
    "    "
   ]
  },
  {
   "cell_type": "code",
   "execution_count": 5,
   "id": "edf62928-f3c6-4a70-8119-e03b9f16c1cd",
   "metadata": {},
   "outputs": [
    {
     "name": "stdout",
     "output_type": "stream",
     "text": [
      "active threads are : 8\n"
     ]
    }
   ],
   "source": [
    "# active count : it is used for count number of active threads\n",
    "import threading\n",
    "count = threading.active_count()\n",
    "print(\"active threads are :\",count)"
   ]
  },
  {
   "cell_type": "code",
   "execution_count": 3,
   "id": "5f1e20e8-e257-419f-8dd0-4e63724e44af",
   "metadata": {},
   "outputs": [
    {
     "name": "stdout",
     "output_type": "stream",
     "text": [
      "<_MainThread(MainThread, started 140471120951104)>\n"
     ]
    }
   ],
   "source": [
    "# current thread: it give the deatail about those thread which are running\n",
    "from threading import current_thread\n",
    "print(current_thread())\n",
    "   "
   ]
  },
  {
   "cell_type": "code",
   "execution_count": 13,
   "id": "bc60490b-908f-4af8-b8c6-59a3b8c60a87",
   "metadata": {},
   "outputs": [
    {
     "name": "stdout",
     "output_type": "stream",
     "text": [
      "[<_MainThread(MainThread, started 140471120951104)>, <Thread(IOPub, started daemon 140471050421824)>, <Heartbeat(Heartbeat, started daemon 140471042029120)>, <Thread(Thread-3 (_watch_pipe_fd), started daemon 140471016851008)>, <Thread(Thread-4 (_watch_pipe_fd), started daemon 140471008458304)>, <ControlThread(Control, started daemon 140470663509568)>, <HistorySavingThread(IPythonHistorySavingThread, started 140470655116864)>, <ParentPollerUnix(Thread-2, started daemon 140470646724160)>]\n"
     ]
    }
   ],
   "source": [
    "# enumerate\n",
    "import threading\n",
    "def main():\n",
    "    \n",
    "    print(threading.enumerate())\n",
    "if(__name__=='__main__'):\n",
    "    main()"
   ]
  },
  {
   "cell_type": "code",
   "execution_count": 14,
   "id": "8fe91a0d-8165-418a-a52d-f14ffb8e4b5f",
   "metadata": {},
   "outputs": [
    {
     "data": {
      "text/plain": [
       "\"3. Explain the following functions\\n( run\\n start\\n join\\n' isAlive)\""
      ]
     },
     "execution_count": 14,
     "metadata": {},
     "output_type": "execute_result"
    }
   ],
   "source": [
    "'''3. Explain the following functions\n",
    "( run\n",
    " start\n",
    " join\n",
    "' isAlive)'''\n"
   ]
  },
  {
   "cell_type": "code",
   "execution_count": 1,
   "id": "a3958d9e-27a0-4fed-b3dd-47843dc29b51",
   "metadata": {},
   "outputs": [
    {
     "data": {
      "text/plain": [
       "'\\nthis method return true just before the run() method start until just after \\nthe run method terminates .this module function enumerate () return a list of\\nall alive threads\\n'"
      ]
     },
     "execution_count": 1,
     "metadata": {},
     "output_type": "execute_result"
    }
   ],
   "source": [
    "# run ()\n",
    "'''\n",
    "the standers run() method invokes the callable object passed to the object constructer \n",
    "as the target argument if  any with positional and \n",
    "keyword argument taken from the args and kwargs argument respectively\n",
    "'''\n",
    "# start()\n",
    "'''\n",
    "it must be called at most once per thread objecct . it arrange for the object run ()\n",
    "method  to be invoke in sperate thread of controll\n",
    "this is the method will raise runtimeerror if called more than once on the same thread \n",
    "object\n",
    "'''\n",
    "# join()\n",
    "'''\n",
    "wait untill the thread terminate and relase the resource \n",
    "'''\n",
    "# is alive\n",
    "'''\n",
    "this method return true just before the run() method start until just after \n",
    "the run method terminates .this module function enumerate () return a list of\n",
    "all alive threads\n",
    "'''"
   ]
  },
  {
   "cell_type": "code",
   "execution_count": 2,
   "id": "1896687a-c267-412b-b8da-14f8c6e5d574",
   "metadata": {},
   "outputs": [],
   "source": [
    "#4. rite a python program to create two threads. Thread one must print the list of squares and thread\n",
    "#   two must print the list of cubes"
   ]
  },
  {
   "cell_type": "code",
   "execution_count": null,
   "id": "ee44b865-6232-47e5-92e8-1aca5640e8d5",
   "metadata": {},
   "outputs": [],
   "source": []
  },
  {
   "cell_type": "code",
   "execution_count": 18,
   "id": "58006fc1-57f1-412c-b9eb-af9412239308",
   "metadata": {},
   "outputs": [
    {
     "name": "stdout",
     "output_type": "stream",
     "text": [
      "[1, 4, 9, 16, 25, 36]\n",
      "[1, 8, 27, 64, 125, 216]\n"
     ]
    }
   ],
   "source": [
    "import threading\n",
    "def square(i,value):\n",
    "        value = value**2\n",
    "        l1.append(value)\n",
    "    \n",
    "def cube(index,value):\n",
    "         value = value**3\n",
    "         l2.append(value)\n",
    "if(__name__=='__main__'):\n",
    "    array = [1,2,3,4,5,6]\n",
    "    \n",
    "    l1=[]\n",
    "    l2=[]\n",
    "for i in range(6):\n",
    "    thread=[threading.Thread(target=square,args=(i,array[i])) for i in range(\n",
    "        len(array)) ]\n",
    "    thread1=[threading.Thread(target=cube,args=(i,array[i]))for i in range(len                                                            \n",
    "                                                                            \n",
    "                (array)) ]\n",
    "for t in thread:\n",
    "    t.start()\n",
    "for t in thread1:\n",
    "    t.start()\n",
    "print(l1)\n",
    "print(l2)\n"
   ]
  },
  {
   "cell_type": "code",
   "execution_count": 19,
   "id": "0dedea95-c4f4-4eac-9cfd-67f217137e09",
   "metadata": {},
   "outputs": [
    {
     "data": {
      "text/plain": [
       "'\\nstate advantage and disadvantage of multithreading \\n'"
      ]
     },
     "execution_count": 19,
     "metadata": {},
     "output_type": "execute_result"
    }
   ],
   "source": [
    "'''\n",
    "state advantage and disadvantage of multithreading \n",
    "'''"
   ]
  },
  {
   "cell_type": "code",
   "execution_count": 20,
   "id": "150d19bf-82ed-46af-b439-4995ce4cea9b",
   "metadata": {},
   "outputs": [
    {
     "data": {
      "text/plain": [
       "'\\n//// advantage\\n* improved throughput\\n* simultaneous and fully symmetric use of multiple processor for computation and i/o\\n* superior application reponsiness\\n* improved serever reponsiveness\\n* minimised system resource usage\\n* program structure simplification \\n* better communication\\n/// disadvantage \\ntesing a multithread application is more diffiuclt\\n'"
      ]
     },
     "execution_count": 20,
     "metadata": {},
     "output_type": "execute_result"
    }
   ],
   "source": [
    "\"\"\"\n",
    "//// advantage\n",
    "* improved throughput\n",
    "* simultaneous and fully symmetric use of multiple processor for computation and i/o\n",
    "* superior application reponsiness\n",
    "* improved serever reponsiveness\n",
    "* minimised system resource usage\n",
    "* program structure simplification \n",
    "* better communication\n",
    "/// disadvantage \n",
    "tesing a multithread application is more diffiuclt\n",
    "\"\"\""
   ]
  },
  {
   "cell_type": "code",
   "execution_count": null,
   "id": "6c1067df-19f1-4c26-8212-c9fc41652a67",
   "metadata": {},
   "outputs": [],
   "source": []
  },
  {
   "cell_type": "code",
   "execution_count": null,
   "id": "cbc64064-2555-4701-91eb-bd221acfcea1",
   "metadata": {},
   "outputs": [],
   "source": [
    "'''\n",
    "in this case , both threads will wait indefinitly for the resources held by the other thread . these threads are said to be deadlocked .\n",
    "race condition occur when two threads interact in a negative (buggy) way depending on the exact order that their different instruction are executed.\n",
    "'''"
   ]
  }
 ],
 "metadata": {
  "kernelspec": {
   "display_name": "Python 3 (ipykernel)",
   "language": "python",
   "name": "python3"
  },
  "language_info": {
   "codemirror_mode": {
    "name": "ipython",
    "version": 3
   },
   "file_extension": ".py",
   "mimetype": "text/x-python",
   "name": "python",
   "nbconvert_exporter": "python",
   "pygments_lexer": "ipython3",
   "version": "3.10.8"
  }
 },
 "nbformat": 4,
 "nbformat_minor": 5
}
